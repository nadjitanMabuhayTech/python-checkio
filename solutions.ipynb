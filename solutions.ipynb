{
 "cells": [
  {
   "cell_type": "code",
   "execution_count": null,
   "metadata": {},
   "outputs": [],
   "source": [
    "# STRINGS\n",
    "test = 2\n",
    "\n",
    "print(f\"Hello world {test}\")"
   ]
  },
  {
   "cell_type": "code",
   "execution_count": null,
   "metadata": {},
   "outputs": [],
   "source": [
    "# OOP\n",
    "class Home:\n",
    "  def __init__(self, rooms: int, stories: str):\n",
    "    self.rooms = rooms\n",
    "    self.stories = stories\n",
    "\n",
    "my_home = Home(2, \"Test\")\n",
    "\n",
    "print(my_home.stories)"
   ]
  },
  {
   "cell_type": "markdown",
   "metadata": {},
   "source": [
    "# CheckiO SOLUTIONS"
   ]
  },
  {
   "cell_type": "markdown",
   "metadata": {},
   "source": [
    "## Strings"
   ]
  },
  {
   "cell_type": "code",
   "execution_count": null,
   "metadata": {},
   "outputs": [],
   "source": [
    "# Integer Sign Determination\n",
    "def determine_sign(num: int) -> str:\n",
    "    if num > 0:\n",
    "        return \"positive\"\n",
    "    if num < 0:\n",
    "        return \"negative\"\n",
    "    return \"zero\"\n",
    "\n",
    "def short_determine_sign(num: int) -> str:\n",
    "    return 'positive' if num > 0 else 'negative' if num < 0 else 'zero'\n",
    "\n",
    "print(determine_sign(11))"
   ]
  },
  {
   "cell_type": "code",
   "execution_count": null,
   "metadata": {},
   "outputs": [],
   "source": [
    "# Backward String\n",
    "def backward_string(val: str) -> str:\n",
    "    r = \"\"\n",
    "    for i in reversed(val):\n",
    "        r = f\"{r}{i}\"\n",
    "    return r\n",
    "\n",
    "def short_backward_string(val: str) -> str:\n",
    "    return val[::-1]\n",
    "\n",
    "print(backward_string(\"val\"))"
   ]
  },
  {
   "cell_type": "code",
   "execution_count": null,
   "metadata": {},
   "outputs": [],
   "source": [
    "# Divisible by 3\n",
    "def checkio(num: int) -> str:\n",
    "    return \"Fizz\" if num % 3 == 0 else f\"{num}\""
   ]
  },
  {
   "cell_type": "code",
   "execution_count": null,
   "metadata": {},
   "outputs": [],
   "source": [
    "# First Word\n",
    "def first_word(text: str) -> str:\n",
    "    result = \"\"\n",
    "    for c in text:\n",
    "        if c == \" \":\n",
    "            break\n",
    "        else:\n",
    "            result = f\"{result}{c}\"\n",
    "    return result\n",
    "\n",
    "def short_first_word(text):\n",
    "    index = text.find(' ')\n",
    "    return text[:index] if index != -1 else text\n",
    "\n",
    "print(first_word(\"Hello world\"))"
   ]
  },
  {
   "cell_type": "code",
   "execution_count": null,
   "metadata": {},
   "outputs": [],
   "source": [
    "# Number Length\n",
    "def number_length(value: int) -> int:\n",
    "    return len(str(value))"
   ]
  },
  {
   "cell_type": "code",
   "execution_count": null,
   "metadata": {},
   "outputs": [],
   "source": [
    "# Count Vowels\n",
    "def count_vowels(text: str) -> int:\n",
    "    vowels = [\"a\", \"e\", \"i\", \"o\", \"u\"]\n",
    "    total = 0\n",
    "    for c in text:\n",
    "        if c.lower() in vowels:\n",
    "            total += 1\n",
    "    return total\n",
    "\n",
    "def short_count_vowels(text: str) -> int:\n",
    "    return sum(char in \"aeiou\" for char in text.lower())\n",
    "\n",
    "print(count_vowels(\"Hello World\"))"
   ]
  },
  {
   "cell_type": "code",
   "execution_count": null,
   "metadata": {},
   "outputs": [],
   "source": [
    "# The Longest Word\n",
    "def longest_word(sentence: str) -> str:\n",
    "    words = sentence.split()\n",
    "    if (len(words) == 0): return \"\"\n",
    "    pos = 0\n",
    "\n",
    "    for i, w in enumerate(words):\n",
    "        if len(words[pos]) < len(w):\n",
    "            pos = i\n",
    "    return words[pos]\n",
    "\n",
    "def shor_longest_word(sentence: str) -> str:\n",
    "    return max(sentence.split(\" \"),key=len)\n",
    "\n",
    "print(longest_word(\"hello world\"))\n",
    "\n",
    "# NOTES\n",
    "# Using max() to find the employee with the highest salary\n",
    "employees = [\n",
    "    {'name': 'John', 'salary': 50000},\n",
    "    {'name': 'Jane', 'salary': 60000},\n",
    "    {'name': 'Bob', 'salary': 70000}\n",
    "]\n",
    "\n",
    "print(max(employees, key=lambda employee: employee['salary']))  \n",
    "# Output: {'name': 'Bob', 'salary': 70000}"
   ]
  },
  {
   "cell_type": "code",
   "execution_count": null,
   "metadata": {},
   "outputs": [],
   "source": [
    "# Convert To Title Case\n",
    "def to_title_case(sentence: str) -> str:\n",
    "    words = sentence.split()\n",
    "    return \" \".join(list(map(lambda x: x.title(), words)))\n",
    "\n",
    "def short_to_title_case(sentence: str) -> str:\n",
    "    return sentence.title()\n",
    "\n",
    "print(to_title_case(\"hello world\"))"
   ]
  },
  {
   "cell_type": "code",
   "execution_count": null,
   "metadata": {},
   "outputs": [],
   "source": [
    "# Replace All Occurrences\n",
    "import re\n",
    "\n",
    "def replace_all(mainText: str, target: str, repl: str) -> str:\n",
    "    word_to_find = re.compile(target, re.IGNORECASE)\n",
    "\n",
    "    def find_matches(text: str, start: int):\n",
    "        matches = list(word_to_find.finditer(text, start))\n",
    "        result = text\n",
    "        if (len(matches) > 0):\n",
    "            result = find_matches(\n",
    "                # Slice target then add replacement based on indexes\n",
    "                result[:matches[0].span()[0]] + repl + result[matches[0].span()[1]:], matches[0].span()[1]\n",
    "            )\n",
    "\n",
    "        return result\n",
    "\n",
    "    return find_matches(mainText, 0)\n",
    "\n",
    "assert replace_all(\"TypeScript is fun\", \"fun\", \"awesome\") == \"TypeScript is awesome\"\n",
    "assert replace_all(\"aaa\", \"a\", \"b\") == \"bbb\"\n",
    "assert replace_all(\"replace all the all\", \"all\", \"some\") == \"replace some the some\"\n",
    "assert replace_all(\"nothing to replace\", \"something\", \"nothing\") == \"nothing to replace\"\n",
    "assert replace_all(\"same same same\", \"same\", \"same\") == \"same same same\"\n",
    "assert replace_all(\"123 123\", \"123\", \"321\") == \"321 321\"\n",
    "assert replace_all(\"OpenAI\", \"AI\", \"Source\") == \"OpenSource\"\n",
    "assert replace_all(\"\", \"anything\", \"nothing\") == \"\""
   ]
  },
  {
   "cell_type": "code",
   "execution_count": null,
   "metadata": {},
   "outputs": [],
   "source": [
    "# Number With Exclamation \n",
    "def factorial(n: int) -> int:\n",
    "    i = 1\n",
    "    product = 1\n",
    "    for i in range(n):\n",
    "        product = product * (i + 1)\n",
    "    return product\n",
    "\n",
    "def short_factorial(n: int) -> int:\n",
    "    return 1 if n==0 or n==1 else n*short_factorial(n-1)\n",
    "\n",
    "print(short_factorial(5))"
   ]
  },
  {
   "cell_type": "code",
   "execution_count": null,
   "metadata": {},
   "outputs": [],
   "source": [
    "# Between Markers\n",
    "def between_markers(text: str, start: str, end: str) -> str:\n",
    "    return text[text.find(start) + 1:text.find(end)]\n",
    "\n",
    "print(between_markers(\"What is >apple<\", \">\", \"<\"))"
   ]
  },
  {
   "cell_type": "code",
   "execution_count": null,
   "metadata": {},
   "outputs": [],
   "source": [
    "# Goes Right After\n",
    "def goes_after(word: str, first: str, second: str) -> bool:\n",
    "    return True if word.find(first) == word.find(second) - 1 else False\n",
    "\n",
    "def goes_after2(word: str, f: str, s: str) -> bool:\n",
    "    return f != s and f'{f}{s}' in word\n",
    "\n",
    "print(goes_after(\"world\", \"w\", \"o\"))"
   ]
  },
  {
   "cell_type": "code",
   "execution_count": null,
   "metadata": {},
   "outputs": [],
   "source": [
    "# Max Digit\n",
    "def max_digit(value: int) -> int:\n",
    "    max = 0\n",
    "    for l in str(value):\n",
    "        if int(l) > max: max = int(l)\n",
    "    return max\n",
    "\n",
    "short_max_digit = lambda number : int(max(str(number)))\n",
    "\n",
    "print(short_max_digit(10))"
   ]
  },
  {
   "cell_type": "code",
   "execution_count": null,
   "metadata": {},
   "outputs": [],
   "source": [
    "# Sum Numbers\n",
    "def sum_numbers(text: str) -> int:\n",
    "    nums = [int(x) for x in text.split() if x.isdigit()] # list comprehension\n",
    "    return sum(nums)\n",
    "\n",
    "short_sum_numbers = lambda text: sum(int(word) for word in text.split() if word.isdigit())\n",
    "\n",
    "print(sum_numbers(\"5 plus 6 is\"))"
   ]
  },
  {
   "cell_type": "code",
   "execution_count": null,
   "metadata": {},
   "outputs": [],
   "source": [
    "# Three Words\n",
    "def checkio(words: str) -> bool:\n",
    "    word_count = 0\n",
    "    for w in words.split():\n",
    "        if w.isdigit() == False:\n",
    "            word_count += 1\n",
    "            if word_count == 3: break\n",
    "        else:\n",
    "            word_count = 0\n",
    "\n",
    "    return False if word_count < 3 else True\n",
    "\n",
    "assert checkio('one two 3 four five six 7 eight 9 ten eleven 12') == True"
   ]
  },
  {
   "cell_type": "code",
   "execution_count": null,
   "metadata": {},
   "outputs": [],
   "source": [
    "# Beginning Zeros\n",
    "def beginning_zeros(a: str) -> int:\n",
    "    zeros = 0\n",
    "    for num in a:\n",
    "        if int(num) == 0: zeros += 1\n",
    "        else: break\n",
    "    return zeros\n",
    "\n",
    "assert beginning_zeros(\"001001\") == 2\n",
    "assert beginning_zeros(\"0000\") == 4"
   ]
  },
  {
   "cell_type": "code",
   "execution_count": null,
   "metadata": {},
   "outputs": [],
   "source": [
    "# Count Substring Occurrences\n",
    "import re\n",
    "def count_occurrences(main_str: str, sub_str: str) -> int:\n",
    "    word_to_find = re.compile(sub_str, re.IGNORECASE)\n",
    "\n",
    "    return list(word_to_find.finditer(main_str))\n",
    "\n",
    "print(count_occurrences(\"hello world hello\", \"hello\"))\n",
    "print(count_occurrences(\"appleappleapple\", \"appleapple\"))"
   ]
  },
  {
   "cell_type": "markdown",
   "metadata": {},
   "source": [
    "## Lists"
   ]
  },
  {
   "cell_type": "code",
   "execution_count": null,
   "metadata": {},
   "outputs": [],
   "source": [
    "# Majority\n",
    "def is_majority(items: list[bool]) -> bool:\n",
    "\n",
    "    return False\n",
    "\n",
    "print(is_majority([True, True, False, True, False]))"
   ]
  }
 ],
 "metadata": {
  "kernelspec": {
   "display_name": "Python 3",
   "language": "python",
   "name": "python3"
  },
  "language_info": {
   "codemirror_mode": {
    "name": "ipython",
    "version": 3
   },
   "file_extension": ".py",
   "mimetype": "text/x-python",
   "name": "python",
   "nbconvert_exporter": "python",
   "pygments_lexer": "ipython3",
   "version": "3.12.1"
  }
 },
 "nbformat": 4,
 "nbformat_minor": 2
}
