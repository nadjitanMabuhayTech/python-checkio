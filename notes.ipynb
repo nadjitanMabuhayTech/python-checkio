{
 "cells": [
  {
   "cell_type": "code",
   "execution_count": null,
   "metadata": {},
   "outputs": [],
   "source": [
    "# STRINGS\n",
    "test = 2\n",
    "# Concatenation\n",
    "print(f\"Hello world {test}\")"
   ]
  },
  {
   "cell_type": "code",
   "execution_count": 17,
   "metadata": {},
   "outputs": [
    {
     "name": "stdout",
     "output_type": "stream",
     "text": [
      "2\n",
      "Default address\n",
      "New address\n",
      "1000\n"
     ]
    }
   ],
   "source": [
    "# OOP\n",
    "class Home:\n",
    "  address = \"Default address\"\n",
    "  \n",
    "  def __init__(self, rooms: int):\n",
    "    self.rooms = rooms\n",
    "    # Private variable\n",
    "    self.__price = 900\n",
    "# Creating object\n",
    "my_home = Home(2)\n",
    "\n",
    "print(my_home.rooms)\n",
    "print(my_home.address)\n",
    "\n",
    "my_home.address = \"New address\"\n",
    "print(my_home.address)\n",
    "\n",
    "my_home.__price = 1000 # It can still be updated??\n",
    "print(my_home.__price)"
   ]
  },
  {
   "cell_type": "code",
   "execution_count": null,
   "metadata": {},
   "outputs": [],
   "source": [
    "# https://www.programiz.com/python-programming/object-oriented-programming\n",
    "# base class\n",
    "class Animal:\n",
    "    \n",
    "    def eat(self):\n",
    "        print( \"I can eat!\")\n",
    "    \n",
    "    def sleep(self):\n",
    "        print(\"I can sleep!\")\n",
    "\n",
    "# derived class\n",
    "class Dog(Animal):\n",
    "    \n",
    "    def bark(self):\n",
    "        print(\"I can bark! Woof woof!!\")\n",
    "\n",
    "dog = Dog()\n",
    "dog.eat()\n",
    "dog.sleep()\n",
    "\n",
    "dog.bark()"
   ]
  },
  {
   "cell_type": "code",
   "execution_count": 23,
   "metadata": {},
   "outputs": [
    {
     "name": "stdout",
     "output_type": "stream",
     "text": [
      "{'name': 'Bob', 'languages': ['English', 'French']}\n",
      "['English', 'French']\n",
      "{'name': 'Joe', 'languages': ['English']}\n",
      "{\"name\": \"Ben\", \"age\": 12, \"children\": null}\n"
     ]
    }
   ],
   "source": [
    "# https://www.programiz.com/python-programming/json\n",
    "import json\n",
    "\n",
    "person = '{\"name\": \"Bob\", \"languages\": [\"English\", \"French\"]}'\n",
    "person_dict = json.loads(person)\n",
    "\n",
    "print(person_dict)\n",
    "print(person_dict['languages']) # Access property\n",
    "\n",
    "# Read from file\n",
    "with open('./person.json', 'r') as f:\n",
    "  data = json.load(f)\n",
    "\n",
    "print(data)\n",
    "\n",
    "person_dict = {'name': 'Ben', 'age': 12, 'children': None}\n",
    "person_json = json.dumps(person_dict) # Convert to JSON\n",
    "print(person_json)"
   ]
  },
  {
   "cell_type": "code",
   "execution_count": 25,
   "metadata": {},
   "outputs": [],
   "source": [
    "\n",
    "import json\n",
    "\n",
    "person_dict = {\"name\": \"Bob\",\n",
    "\"languages\": [\"English\", \"French\"],\n",
    "\"married\": True,\n",
    "\"age\": 32\n",
    "}\n",
    "# Create/Write \n",
    "with open('person.json', 'w') as json_file:\n",
    "  json.dump(person_dict, json_file)"
   ]
  },
  {
   "cell_type": "code",
   "execution_count": 27,
   "metadata": {},
   "outputs": [
    {
     "name": "stdout",
     "output_type": "stream",
     "text": [
      "{\n",
      "  \"languages\": \"English\",\n",
      "  \"name\": \"Bob\",\n",
      "  \"numbers\": [\n",
      "    2,\n",
      "    1.6,\n",
      "    null\n",
      "  ]\n",
      "}\n"
     ]
    }
   ],
   "source": [
    "import json\n",
    "\n",
    "person_string = '{\"name\": \"Bob\", \"languages\": \"English\", \"numbers\": [2, 1.6, null]}'\n",
    "person_dict = json.loads(person_string)\n",
    "# Pretty Printing JSON string back\n",
    "print(json.dumps(person_dict, indent = 2, sort_keys=True))"
   ]
  }
 ],
 "metadata": {
  "kernelspec": {
   "display_name": "Python 3",
   "language": "python",
   "name": "python3"
  },
  "language_info": {
   "codemirror_mode": {
    "name": "ipython",
    "version": 3
   },
   "file_extension": ".py",
   "mimetype": "text/x-python",
   "name": "python",
   "nbconvert_exporter": "python",
   "pygments_lexer": "ipython3",
   "version": "3.12.1"
  }
 },
 "nbformat": 4,
 "nbformat_minor": 2
}
