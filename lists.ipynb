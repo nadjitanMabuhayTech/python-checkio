{
 "cells": [
  {
   "cell_type": "code",
   "execution_count": null,
   "metadata": {},
   "outputs": [],
   "source": [
    "# Majority\n",
    "def is_majority(items: list[bool]) -> bool:\n",
    "    t_count = 0\n",
    "    f_count = 0\n",
    "\n",
    "    for item in items:\n",
    "        if item == True: t_count+=1\n",
    "        else: f_count+=1\n",
    "\n",
    "    return True if t_count > f_count else False\n",
    "\n",
    "print(is_majority([True, True, False, True, False]))"
   ]
  },
  {
   "cell_type": "code",
   "execution_count": null,
   "metadata": {},
   "outputs": [],
   "source": [
    "# Index Power\n",
    "def index_power(ar: list[int], n: int) -> int:\n",
    "    if n == 0: return 1\n",
    "\n",
    "    base_num = 0\n",
    "    if n < len(ar): base_num = ar[n]\n",
    "    else: return -1\n",
    "\n",
    "    for i in range(n - 1): base_num *= ar[n]\n",
    "    return base_num\n",
    "\n",
    "print(index_power([1, 2, 3], 2))"
   ]
  },
  {
   "cell_type": "code",
   "execution_count": null,
   "metadata": {},
   "outputs": [],
   "source": [
    "# Even the Last\n",
    "def checkio(array: list[int]) -> int:\n",
    "    if len(array) == 0: return 0\n",
    "    total = 0\n",
    "\n",
    "    for x in range(len(array)):\n",
    "        if x % 2 == 0: total += array[x]\n",
    "\n",
    "    return total * array[len(array) - 1]\n",
    "\n",
    "print(checkio([0, 1, 2, 3, 4, 5]))"
   ]
  },
  {
   "cell_type": "code",
   "execution_count": null,
   "metadata": {},
   "outputs": [],
   "source": [
    "# Median\n",
    "def mergeSort(arr: list[int]) -> list[int]:\n",
    "    print(arr)\n",
    "    length = len(arr)\n",
    "    i = length//2\n",
    "    first_half = mergeSort(arr[:i])\n",
    "    sec_half = mergeSort(arr[i:])\n",
    "\n",
    "    new_list = []\n",
    "    for x in range(first_half):\n",
    "        if first_half[x] < sec_half[x]: new_list.append(first_half)\n",
    "\n",
    "    return new_list\n",
    "\n",
    "def checkio(data: list[int]) -> int | float:\n",
    "    return mergeSort(data)\n",
    "\n",
    "print(checkio([0, 7, 1, 8, 4, 9, 5, 6, 2, 3]))"
   ]
  }
 ],
 "metadata": {
  "kernelspec": {
   "display_name": "Python 3",
   "language": "python",
   "name": "python3"
  },
  "language_info": {
   "codemirror_mode": {
    "name": "ipython",
    "version": 3
   },
   "file_extension": ".py",
   "mimetype": "text/x-python",
   "name": "python",
   "nbconvert_exporter": "python",
   "pygments_lexer": "ipython3",
   "version": "3.12.1"
  }
 },
 "nbformat": 4,
 "nbformat_minor": 2
}
