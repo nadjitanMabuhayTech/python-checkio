{
 "cells": [
  {
   "cell_type": "code",
   "execution_count": null,
   "metadata": {},
   "outputs": [],
   "source": [
    "# Majority\n",
    "def is_majority(items: list[bool]) -> bool:\n",
    "\n",
    "    return False\n",
    "\n",
    "print(is_majority([True, True, False, True, False]))"
   ]
  }
 ],
 "metadata": {
  "language_info": {
   "name": "python"
  }
 },
 "nbformat": 4,
 "nbformat_minor": 2
}
